{
 "cells": [
  {
   "cell_type": "markdown",
   "metadata": {},
   "source": [
    "# Analysing a Log with LTL\n",
    "\n",
    "The class `ProcessMiningTasks.ConformanceChecking.LTLAnalyzer.LTLAnalyzer` provides a way to check if the log conforms to a ltl formula. The formula can be a standard, we have a set of templates (including TB-Declare templates), or it can be a formula inputed by the user. This class makes use of two other classes `ProcessModels.LTLModel.LTLModel` and `ProcesModels.LTLModel.LTLModelTemplate`. The `LTLAnalyzer` class contains the following function:\n",
    "1. `run` that returns a Pandas Dataframe. This Dataframe contains all traces in one column, in the second column we have the result of the conformance check, i.e., if a trace conforms to the LTL formula or not.\n",
    "\n",
    "To use this class we need first to load a `xes` log and create a LTLModel object, which contains our formula.\n",
    "The LTLModel can be created either using directly the `LTLModel` class or by using the `LTLModelTemplate` class.\n",
    "We have to pass the name of a template to the constructor of the class`LTLModelTemplate`.\n",
    "\n",
    "**NOTE:** For the grammar of LTL formulae we follow this model: https://marcofavorito.me/tl-grammars/v/7d9a17267fbf525d9a6a1beb92a46f05cf652db6/"
   ]
  },
  {
   "cell_type": "code",
   "execution_count": 2,
   "metadata": {},
   "outputs": [
    {
     "data": {
      "application/vnd.jupyter.widget-view+json": {
       "model_id": "",
       "version_major": 2,
       "version_minor": 0
      },
      "text/plain": [
       "parsing log, completed traces ::   0%|          | 0/1050 [00:00<?, ?it/s]"
      ]
     },
     "metadata": {},
     "output_type": "display_data"
    },
    {
     "name": "stderr",
     "output_type": "stream",
     "text": [
      "/usr/local/lib/python3.11/dist-packages/pm4py/utils.py:486: UserWarning: the EventLog class has been deprecated and will be removed in a future release.\n",
      "  warnings.warn(\"the EventLog class has been deprecated and will be removed in a future release.\")\n"
     ]
    }
   ],
   "source": [
    "import sys\n",
    "import os\n",
    "import pathlib\n",
    "\n",
    "SCRIPT_DIR = pathlib.Path(\"..\", \"src\").resolve()\n",
    "sys.path.append(os.path.dirname(SCRIPT_DIR))\n",
    "\n",
    "from src.Declare4Py.D4PyEventLog import D4PyEventLog\n",
    "\n",
    "log_path = os.path.join(\"..\", \"tests\", \"Sepsis Cases.xes.gz\")\n",
    "event_log = D4PyEventLog()\n",
    "event_log.parse_xes_log(log_path)\n",
    "\n",
    "from src.Declare4Py.ProcessModels.LTLModel import LTLModel\n",
    "from src.Declare4Py.ProcessModels.LTLModel import LTLModelTemplate\n",
    "\n",
    "model = LTLModel()\n",
    "model.parse_from_string(\"F(a)\")\n",
    "template = LTLModelTemplate('eventually_activity_a')\n"
   ]
  },
  {
   "cell_type": "markdown",
   "metadata": {},
   "source": [
    "In order to use the template object, we need to call `LTLModelTemplate`'s function `get_templ_model`, which expects a number of parameters equal to those expected by the template and returns an LTLModel object containing the parsed formula of the template."
   ]
  },
  {
   "cell_type": "code",
   "execution_count": 3,
   "metadata": {},
   "outputs": [],
   "source": [
    "template = LTLModelTemplate('eventually_activity_a')\n",
    "model = template.get_templ_model(['activity1'])"
   ]
  },
  {
   "cell_type": "markdown",
   "metadata": {},
   "source": [
    "Then we can create our `LTLAnalyzer` object and call the `run` function"
   ]
  },
  {
   "cell_type": "code",
   "execution_count": 6,
   "metadata": {},
   "outputs": [
    {
     "name": "stdout",
     "output_type": "stream",
     "text": [
      "    case id  accepting\n",
      "0         0       True\n",
      "0         1       True\n",
      "0         2       True\n",
      "0         3       True\n",
      "0         4       True\n",
      "..      ...        ...\n",
      "0      1045       True\n",
      "0      1046      False\n",
      "0      1047      False\n",
      "0      1048       True\n",
      "0      1049      False\n",
      "\n",
      "[1050 rows x 2 columns]\n"
     ]
    }
   ],
   "source": [
    "from src.Declare4Py.ProcessMiningTasks.ConformanceChecking.LTLAnalyzer import LTLAnalyzer\n",
    "\n",
    "analyzer = LTLAnalyzer(event_log, model)\n",
    "df = analyzer.run()\n",
    "print(df)"
   ]
  },
  {
   "cell_type": "markdown",
   "metadata": {},
   "source": [
    "## Using the LTLModel templates\n",
    "\n",
    "### `eventually_activity_a`\n",
    "Takes one activity as input as a string.\n",
    "Formula:\n",
    "- `F(activity)`"
   ]
  },
  {
   "cell_type": "code",
   "execution_count": 7,
   "metadata": {},
   "outputs": [
    {
     "name": "stdout",
     "output_type": "stream",
     "text": [
      "    case id  accepting\n",
      "0         0       True\n",
      "0         1       True\n",
      "0         2       True\n",
      "0         3       True\n",
      "0         4       True\n",
      "..      ...        ...\n",
      "0      1045       True\n",
      "0      1046      False\n",
      "0      1047      False\n",
      "0      1048       True\n",
      "0      1049      False\n",
      "\n",
      "[1050 rows x 2 columns]\n"
     ]
    }
   ],
   "source": [
    "template = LTLModelTemplate('eventually_activity_a')\n",
    "model = template.get_templ_model(['CRP'])\n",
    "analyzer = LTLAnalyzer(event_log, model)\n",
    "data = analyzer.run()\n",
    "print(data)"
   ]
  },
  {
   "cell_type": "markdown",
   "metadata": {},
   "source": [
    "### `next_a`\n",
    "Takes one activity as input.\n",
    "Formula:\n",
    "- `X(activity)`"
   ]
  },
  {
   "cell_type": "code",
   "execution_count": 8,
   "metadata": {},
   "outputs": [
    {
     "name": "stdout",
     "output_type": "stream",
     "text": [
      "    case id  accepting\n",
      "0         0      False\n",
      "0         1       True\n",
      "0         2       True\n",
      "0         3       True\n",
      "0         4       True\n",
      "..      ...        ...\n",
      "0      1045       True\n",
      "0      1046       True\n",
      "0      1047       True\n",
      "0      1048       True\n",
      "0      1049       True\n",
      "\n",
      "[1050 rows x 2 columns]\n"
     ]
    }
   ],
   "source": [
    "template = LTLModelTemplate('next_a')\n",
    "model = template.get_templ_model(['ER Triage'])\n",
    "analyzer = LTLAnalyzer(event_log, model)\n",
    "data = analyzer.run()\n",
    "print(data)"
   ]
  },
  {
   "cell_type": "markdown",
   "metadata": {},
   "source": [
    "### `eventually_a_then_b`\n",
    "Takes two activities as input.\n",
    "Formula:\n",
    "- `F(activity1 && F(activity2))`"
   ]
  },
  {
   "cell_type": "code",
   "execution_count": 9,
   "metadata": {},
   "outputs": [
    {
     "name": "stdout",
     "output_type": "stream",
     "text": [
      "    case id  accepting\n",
      "0         0       True\n",
      "0         1       True\n",
      "0         2       True\n",
      "0         3       True\n",
      "0         4      False\n",
      "..      ...        ...\n",
      "0      1045       True\n",
      "0      1046      False\n",
      "0      1047      False\n",
      "0      1048       True\n",
      "0      1049      False\n",
      "\n",
      "[1050 rows x 2 columns]\n"
     ]
    }
   ],
   "source": [
    "template = LTLModelTemplate('eventually_a_then_b')\n",
    "model = template.get_templ_model(['Leucocytes', 'CRP'])\n",
    "analyzer = LTLAnalyzer(event_log, model)\n",
    "data = analyzer.run()\n",
    "print(data)"
   ]
  },
  {
   "cell_type": "markdown",
   "metadata": {},
   "source": [
    "### `eventually_a_or_b`\n",
    "Takes two activities as input.\n",
    "Formula:\n",
    "- `F(activity1) || F(activity2)`"
   ]
  },
  {
   "cell_type": "code",
   "execution_count": 10,
   "metadata": {},
   "outputs": [
    {
     "name": "stdout",
     "output_type": "stream",
     "text": [
      "    case id  accepting\n",
      "0         0       True\n",
      "0         1       True\n",
      "0         2       True\n",
      "0         3       True\n",
      "0         4      False\n",
      "..      ...        ...\n",
      "0      1045       True\n",
      "0      1046      False\n",
      "0      1047      False\n",
      "0      1048       True\n",
      "0      1049      False\n",
      "\n",
      "[1050 rows x 2 columns]\n"
     ]
    }
   ],
   "source": [
    "template = LTLModelTemplate('eventually_a_then_b')\n",
    "model = template.get_templ_model(['Leucocytes', 'CRP'])\n",
    "analyzer = LTLAnalyzer(event_log, model)\n",
    "data = analyzer.run()\n",
    "print(data)"
   ]
  },
  {
   "cell_type": "markdown",
   "metadata": {},
   "source": [
    "### `eventually_a_next_b`\n",
    "Takes two activities as input. Formula:\n",
    "- `F(activity1 && X(activity2))`"
   ]
  },
  {
   "cell_type": "code",
   "execution_count": 11,
   "metadata": {},
   "outputs": [
    {
     "name": "stdout",
     "output_type": "stream",
     "text": [
      "    case id  accepting\n",
      "0         0       True\n",
      "0         1      False\n",
      "0         2       True\n",
      "0         3       True\n",
      "0         4      False\n",
      "..      ...        ...\n",
      "0      1045       True\n",
      "0      1046      False\n",
      "0      1047      False\n",
      "0      1048       True\n",
      "0      1049      False\n",
      "\n",
      "[1050 rows x 2 columns]\n"
     ]
    }
   ],
   "source": [
    "template = LTLModelTemplate('eventually_a_next_b')\n",
    "model = template.get_templ_model(['Leucocytes', 'CRP'])\n",
    "analyzer = LTLAnalyzer(event_log, model)\n",
    "data = analyzer.run()\n",
    "print(data)"
   ]
  },
  {
   "cell_type": "markdown",
   "metadata": {},
   "source": [
    "### `eventually_a_then_b_then_c`\n",
    "Takes three activities as input. Formula:\n",
    "- `F(activity1 && F(activity2 && F(activity3)))`"
   ]
  },
  {
   "cell_type": "code",
   "execution_count": 13,
   "metadata": {},
   "outputs": [
    {
     "name": "stdout",
     "output_type": "stream",
     "text": [
      "    case id  accepting\n",
      "0         0       True\n",
      "0         1       True\n",
      "0         2       True\n",
      "0         3       True\n",
      "0         4      False\n",
      "..      ...        ...\n",
      "0      1045       True\n",
      "0      1046      False\n",
      "0      1047      False\n",
      "0      1048       True\n",
      "0      1049      False\n",
      "\n",
      "[1050 rows x 2 columns]\n"
     ]
    }
   ],
   "source": [
    "template = LTLModelTemplate('eventually_a_then_b_then_c')\n",
    "model = template.get_templ_model(['ER Registration','Leucocytes', 'CRP'])\n",
    "analyzer = LTLAnalyzer(event_log, model)\n",
    "data = analyzer.run()\n",
    "print(data)"
   ]
  },
  {
   "cell_type": "markdown",
   "metadata": {},
   "source": [
    "### `eventually_a_next_b_next_c`\n",
    "Takes three activities as input. Formula:\n",
    "- `F(activity1 && X(activity2 && X(activity3)))`"
   ]
  },
  {
   "cell_type": "code",
   "execution_count": 14,
   "metadata": {},
   "outputs": [
    {
     "name": "stdout",
     "output_type": "stream",
     "text": [
      "    case id  accepting\n",
      "0         0      False\n",
      "0         1      False\n",
      "0         2      False\n",
      "0         3      False\n",
      "0         4      False\n",
      "..      ...        ...\n",
      "0      1045      False\n",
      "0      1046      False\n",
      "0      1047      False\n",
      "0      1048      False\n",
      "0      1049      False\n",
      "\n",
      "[1050 rows x 2 columns]\n"
     ]
    }
   ],
   "source": [
    "template = LTLModelTemplate('eventually_a_next_b_next_c')\n",
    "model = template.get_templ_model(['ER Registration', 'CRP', 'Leucocytes'])\n",
    "analyzer = LTLAnalyzer(event_log, model)\n",
    "data = analyzer.run()\n",
    "print(data)"
   ]
  },
  {
   "cell_type": "markdown",
   "metadata": {},
   "source": [
    "## Branched Declare template models\n",
    "A series of templates for branched declare. All functions take two lists of strings as parameters. The first parameter is the source while the second list is the target. They all return a string, which is the LTL formula."
   ]
  },
  {
   "cell_type": "markdown",
   "metadata": {},
   "source": [
    "### `responded existence`"
   ]
  },
  {
   "cell_type": "code",
   "execution_count": 15,
   "metadata": {},
   "outputs": [
    {
     "name": "stdout",
     "output_type": "stream",
     "text": [
      "    case id  accepting\n",
      "0         0       True\n",
      "0         1       True\n",
      "0         2       True\n",
      "0         3       True\n",
      "0         4       True\n",
      "..      ...        ...\n",
      "0      1045       True\n",
      "0      1046       True\n",
      "0      1047       True\n",
      "0      1048       True\n",
      "0      1049       True\n",
      "\n",
      "[1050 rows x 2 columns]\n"
     ]
    }
   ],
   "source": [
    "template = LTLModelTemplate('responded_existence')\n",
    "source_list = [\"ER Triage\", \"CRP\", \"Leucocytes\"]\n",
    "target_list = [\"Leucocytes\", \"Admission NC\", \"Release A\"]\n",
    "model = template.get_templ_model(source_list, target_list)\n",
    "analyzer = LTLAnalyzer(event_log, model)\n",
    "data = analyzer.run()\n",
    "print(data)"
   ]
  },
  {
   "cell_type": "markdown",
   "metadata": {},
   "source": [
    "### `response`"
   ]
  },
  {
   "cell_type": "code",
   "execution_count": 16,
   "metadata": {},
   "outputs": [
    {
     "name": "stdout",
     "output_type": "stream",
     "text": [
      "    case id  accepting\n",
      "0         0       True\n",
      "0         1       True\n",
      "0         2       True\n",
      "0         3       True\n",
      "0         4       True\n",
      "..      ...        ...\n",
      "0      1045       True\n",
      "0      1046      False\n",
      "0      1047      False\n",
      "0      1048       True\n",
      "0      1049      False\n",
      "\n",
      "[1050 rows x 2 columns]\n"
     ]
    }
   ],
   "source": [
    "template = LTLModelTemplate('response')\n",
    "source_list = [\"ER Triage\", \"CRP\", \"Leucocytes\"]\n",
    "target_list = [\"Leucocytes\", \"Admission NC\", \"Release A\"]\n",
    "model = template.get_templ_model(source_list, target_list)\n",
    "analyzer = LTLAnalyzer(event_log, model)\n",
    "data = analyzer.run()\n",
    "print(data)"
   ]
  },
  {
   "cell_type": "markdown",
   "metadata": {},
   "source": [
    "### `alternate_response`"
   ]
  },
  {
   "cell_type": "code",
   "execution_count": 17,
   "metadata": {},
   "outputs": [
    {
     "name": "stdout",
     "output_type": "stream",
     "text": [
      "    case id  accepting\n",
      "0         0       True\n",
      "0         1       True\n",
      "0         2       True\n",
      "0         3       True\n",
      "0         4      False\n",
      "..      ...        ...\n",
      "0      1045       True\n",
      "0      1046      False\n",
      "0      1047      False\n",
      "0      1048       True\n",
      "0      1049      False\n",
      "\n",
      "[1050 rows x 2 columns]\n"
     ]
    }
   ],
   "source": [
    "template = LTLModelTemplate('alternate_response')\n",
    "source_list = [\"ER Triage\", \"CRP\", \"Leucocytes\"]\n",
    "target_list = [\"Leucocytes\", \"Admission NC\", \"Release A\"]\n",
    "model = template.get_templ_model(source_list, target_list)\n",
    "analyzer = LTLAnalyzer(event_log, model)\n",
    "data = analyzer.run()\n",
    "print(data)"
   ]
  },
  {
   "cell_type": "markdown",
   "metadata": {},
   "source": [
    "### `chain_response`"
   ]
  },
  {
   "cell_type": "code",
   "execution_count": 18,
   "metadata": {},
   "outputs": [
    {
     "name": "stdout",
     "output_type": "stream",
     "text": [
      "    case id  accepting\n",
      "0         0      False\n",
      "0         1      False\n",
      "0         2      False\n",
      "0         3      False\n",
      "0         4      False\n",
      "..      ...        ...\n",
      "0      1045      False\n",
      "0      1046      False\n",
      "0      1047      False\n",
      "0      1048      False\n",
      "0      1049      False\n",
      "\n",
      "[1050 rows x 2 columns]\n"
     ]
    }
   ],
   "source": [
    "template = LTLModelTemplate('chain_response')\n",
    "source_list = [\"ER Triage\", \"CRP\", \"Leucocytes\"]\n",
    "target_list = [\"Leucocytes\", \"Admission NC\", \"Release A\"]\n",
    "model = template.get_templ_model(source_list, target_list)\n",
    "analyzer = LTLAnalyzer(event_log, model)\n",
    "data = analyzer.run()\n",
    "print(data)"
   ]
  },
  {
   "cell_type": "markdown",
   "metadata": {},
   "source": [
    "### `precedence`"
   ]
  },
  {
   "cell_type": "code",
   "execution_count": 19,
   "metadata": {},
   "outputs": [
    {
     "name": "stdout",
     "output_type": "stream",
     "text": [
      "    case id  accepting\n",
      "0         0       True\n",
      "0         1       True\n",
      "0         2       True\n",
      "0         3       True\n",
      "0         4       True\n",
      "..      ...        ...\n",
      "0      1045       True\n",
      "0      1046       True\n",
      "0      1047       True\n",
      "0      1048       True\n",
      "0      1049       True\n",
      "\n",
      "[1050 rows x 2 columns]\n"
     ]
    }
   ],
   "source": [
    "template = LTLModelTemplate('precedence')\n",
    "source_list = [\"ER Triage\", \"CRP\", \"Leucocytes\"]\n",
    "target_list = [\"Leucocytes\", \"Admission NC\", \"Release A\"]\n",
    "model = template.get_templ_model(source_list, target_list)\n",
    "analyzer = LTLAnalyzer(event_log, model)\n",
    "data = analyzer.run()\n",
    "print(data)"
   ]
  },
  {
   "cell_type": "markdown",
   "metadata": {},
   "source": [
    "### `alternate_precedence`"
   ]
  },
  {
   "cell_type": "code",
   "execution_count": 20,
   "metadata": {},
   "outputs": [
    {
     "name": "stdout",
     "output_type": "stream",
     "text": [
      "    case id  accepting\n",
      "0         0       True\n",
      "0         1       True\n",
      "0         2       True\n",
      "0         3       True\n",
      "0         4       True\n",
      "..      ...        ...\n",
      "0      1045       True\n",
      "0      1046       True\n",
      "0      1047       True\n",
      "0      1048       True\n",
      "0      1049       True\n",
      "\n",
      "[1050 rows x 2 columns]\n"
     ]
    }
   ],
   "source": [
    "template = LTLModelTemplate('alternate_precedence')\n",
    "source_list = [\"ER Triage\", \"CRP\", \"Leucocytes\"]\n",
    "target_list = [\"Leucocytes\", \"Admission NC\", \"Release A\"]\n",
    "model = template.get_templ_model(source_list, target_list)\n",
    "analyzer = LTLAnalyzer(event_log, model)\n",
    "data = analyzer.run()\n",
    "print(data)"
   ]
  },
  {
   "cell_type": "markdown",
   "metadata": {},
   "source": [
    "### `chain_precedence`"
   ]
  },
  {
   "cell_type": "code",
   "execution_count": 21,
   "metadata": {},
   "outputs": [
    {
     "name": "stdout",
     "output_type": "stream",
     "text": [
      "    case id  accepting\n",
      "0         0      False\n",
      "0         1      False\n",
      "0         2      False\n",
      "0         3      False\n",
      "0         4      False\n",
      "..      ...        ...\n",
      "0      1045      False\n",
      "0      1046      False\n",
      "0      1047      False\n",
      "0      1048      False\n",
      "0      1049      False\n",
      "\n",
      "[1050 rows x 2 columns]\n"
     ]
    }
   ],
   "source": [
    "template = LTLModelTemplate('chain_precedence')\n",
    "source_list = [\"ER Triage\", \"CRP\", \"Leucocytes\"]\n",
    "target_list = [\"Leucocytes\", \"Admission NC\", \"Release A\"]\n",
    "model = template.get_templ_model(source_list, target_list)\n",
    "analyzer = LTLAnalyzer(event_log, model)\n",
    "data = analyzer.run()\n",
    "print(data)"
   ]
  },
  {
   "cell_type": "markdown",
   "metadata": {},
   "source": [
    "### `not_responded_existence`"
   ]
  },
  {
   "cell_type": "code",
   "execution_count": 22,
   "metadata": {},
   "outputs": [
    {
     "name": "stdout",
     "output_type": "stream",
     "text": [
      "    case id  accepting\n",
      "0         0      False\n",
      "0         1      False\n",
      "0         2      False\n",
      "0         3      False\n",
      "0         4      False\n",
      "..      ...        ...\n",
      "0      1045      False\n",
      "0      1046       True\n",
      "0      1047       True\n",
      "0      1048      False\n",
      "0      1049       True\n",
      "\n",
      "[1050 rows x 2 columns]\n"
     ]
    }
   ],
   "source": [
    "template = LTLModelTemplate('not_responded_existence')\n",
    "source_list = [\"ER Triage\", \"CRP\", \"Leucocytes\"]\n",
    "target_list = [\"Leucocytes\", \"Admission NC\", \"Release A\"]\n",
    "model = template.get_templ_model(source_list, target_list)\n",
    "analyzer = LTLAnalyzer(event_log, model)\n",
    "data = analyzer.run()\n",
    "print(data)"
   ]
  },
  {
   "cell_type": "markdown",
   "metadata": {},
   "source": [
    "### `not_response`"
   ]
  },
  {
   "cell_type": "code",
   "execution_count": 23,
   "metadata": {},
   "outputs": [
    {
     "name": "stdout",
     "output_type": "stream",
     "text": [
      "    case id  accepting\n",
      "0         0      False\n",
      "0         1      False\n",
      "0         2      False\n",
      "0         3      False\n",
      "0         4       True\n",
      "..      ...        ...\n",
      "0      1045      False\n",
      "0      1046       True\n",
      "0      1047       True\n",
      "0      1048      False\n",
      "0      1049       True\n",
      "\n",
      "[1050 rows x 2 columns]\n"
     ]
    }
   ],
   "source": [
    "template = LTLModelTemplate('not_response')\n",
    "source_list = [\"ER Triage\", \"CRP\", \"Leucocytes\"]\n",
    "target_list = [\"Leucocytes\", \"Admission NC\", \"Release A\"]\n",
    "model = template.get_templ_model(source_list, target_list)\n",
    "analyzer = LTLAnalyzer(event_log, model)\n",
    "data = analyzer.run()\n",
    "print(data)"
   ]
  },
  {
   "cell_type": "markdown",
   "metadata": {},
   "source": [
    "### `not_precedence`"
   ]
  },
  {
   "cell_type": "code",
   "execution_count": 24,
   "metadata": {},
   "outputs": [
    {
     "name": "stdout",
     "output_type": "stream",
     "text": [
      "    case id  accepting\n",
      "0         0      False\n",
      "0         1      False\n",
      "0         2      False\n",
      "0         3      False\n",
      "0         4      False\n",
      "..      ...        ...\n",
      "0      1045      False\n",
      "0      1046       True\n",
      "0      1047       True\n",
      "0      1048      False\n",
      "0      1049       True\n",
      "\n",
      "[1050 rows x 2 columns]\n"
     ]
    }
   ],
   "source": [
    "template = LTLModelTemplate('not_precedence')\n",
    "source_list = [\"ER Triage\", \"CRP\", \"Leucocytes\"]\n",
    "target_list = [\"Leucocytes\", \"Admission NC\", \"Release A\"]\n",
    "model = template.get_templ_model(source_list, target_list)\n",
    "analyzer = LTLAnalyzer(event_log, model)\n",
    "data = analyzer.run()\n",
    "print(data)"
   ]
  },
  {
   "cell_type": "markdown",
   "metadata": {},
   "source": [
    "### `not_chain_response`"
   ]
  },
  {
   "cell_type": "code",
   "execution_count": 25,
   "metadata": {},
   "outputs": [
    {
     "name": "stdout",
     "output_type": "stream",
     "text": [
      "    case id  accepting\n",
      "0         0       True\n",
      "0         1       True\n",
      "0         2       True\n",
      "0         3       True\n",
      "0         4       True\n",
      "..      ...        ...\n",
      "0      1045       True\n",
      "0      1046       True\n",
      "0      1047       True\n",
      "0      1048       True\n",
      "0      1049       True\n",
      "\n",
      "[1050 rows x 2 columns]\n"
     ]
    }
   ],
   "source": [
    "template = LTLModelTemplate('not_chain_response')\n",
    "source_list = [\"ER Triage\", \"CRP\", \"Leucocytes\"]\n",
    "target_list = [\"Leucocytes\", \"Admission NC\", \"Release A\"]\n",
    "model = template.get_templ_model(source_list, target_list)\n",
    "analyzer = LTLAnalyzer(event_log, model)\n",
    "data = analyzer.run()\n",
    "print(data)"
   ]
  },
  {
   "cell_type": "markdown",
   "metadata": {},
   "source": [
    "### `not_chain_precedence`"
   ]
  },
  {
   "cell_type": "code",
   "execution_count": 26,
   "metadata": {},
   "outputs": [
    {
     "name": "stdout",
     "output_type": "stream",
     "text": [
      "    case id  accepting\n",
      "0         0       True\n",
      "0         1       True\n",
      "0         2       True\n",
      "0         3       True\n",
      "0         4       True\n",
      "..      ...        ...\n",
      "0      1045       True\n",
      "0      1046       True\n",
      "0      1047       True\n",
      "0      1048       True\n",
      "0      1049       True\n",
      "\n",
      "[1050 rows x 2 columns]\n"
     ]
    }
   ],
   "source": [
    "template = LTLModelTemplate('not_chain_precedence')\n",
    "source_list = [\"ER Triage\", \"CRP\", \"Leucocytes\"]\n",
    "target_list = [\"Leucocytes\", \"Admission NC\", \"Release A\"]\n",
    "model = template.get_templ_model(source_list, target_list)\n",
    "analyzer = LTLAnalyzer(event_log, model)\n",
    "data = analyzer.run()\n",
    "print(data)"
   ]
  },
  {
   "cell_type": "code",
   "execution_count": null,
   "metadata": {},
   "outputs": [],
   "source": []
  }
 ],
 "metadata": {
  "kernelspec": {
   "display_name": "Python 3 (ipykernel)",
   "language": "python",
   "name": "python3"
  },
  "language_info": {
   "codemirror_mode": {
    "name": "ipython",
    "version": 3
   },
   "file_extension": ".py",
   "mimetype": "text/x-python",
   "name": "python",
   "nbconvert_exporter": "python",
   "pygments_lexer": "ipython3",
   "version": "3.11.2"
  }
 },
 "nbformat": 4,
 "nbformat_minor": 2
}
